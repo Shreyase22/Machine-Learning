{
  "nbformat": 4,
  "nbformat_minor": 0,
  "metadata": {
    "colab": {
      "provenance": []
    },
    "kernelspec": {
      "name": "python3",
      "display_name": "Python 3"
    },
    "language_info": {
      "name": "python"
    }
  },
  "cells": [
    {
      "cell_type": "markdown",
      "source": [
        "**Q1.**\n",
        " No. of multiplications = n*k*m\n",
        " No. of additions = n*(k-1)*m\n",
        " While performing matrix multiplication, we multiply each and every element of matrix and for adding we perform one less operation than that performed while multiplying every element.\n",
        "A= [[4 6 8][10 2 5]]\n",
        "B= [[1 6][7 10][10 5]]\n",
        "A*B= 4x1+6x7+8x10   4x6+6x10+8x5\n",
        "     10x1+2x7+5x10  10x6+2x10+5x5        \n",
        "   "
      ],
      "metadata": {
        "id": "PEtGzwSFHAG9"
      }
    },
    {
      "cell_type": "code",
      "source": [
        "#Q2\n",
        "#without numpy\n",
        "import random\n",
        "import time\n",
        "t1=time.time()\n",
        "a = [[4,6],[10,2]]\n",
        "b = [[1,6],[7,10]] \n",
        "  #print(a)\n",
        "  #print(b)\n",
        "c = [[0 for i in range(2)]for j in range(2)]\n",
        "for i in range(2):\n",
        "  for j in range(2):\n",
        "    for k in range(2):\n",
        "      c[i][j] += a[i][k] * b[k][j]\n",
        "print(c)\n",
        "t2=time.time()\n",
        "print(t2-t1)\n",
        "\n",
        "#with numpy\n",
        "import numpy as np\n",
        "import time\n",
        "t1=time.time() \n",
        "a=np.array([[4,6],[10,2]])\n",
        "b=np.array([[1,6],[7,10]])\n",
        "c=np.dot(a,b)\n",
        "print(c)\n",
        "t2=time.time()\n",
        "print(t2-t1)"
      ],
      "metadata": {
        "id": "DfCjk9wwjW3f"
      },
      "execution_count": null,
      "outputs": []
    },
    {
      "cell_type": "markdown",
      "source": [
        "**Q2**  Here the time may vary as we are checking for a single input with fixed size. Numpy is faster than list of lists. On increasing the size of array (nearly about 10000), Numpy gets way much faster than lists, there is a visible difference. This happens because arrays are collection of homogenous data-types stored in contiguous location whereas lists are collection of non-homogenous data-types stored in non-contiguous locations. Numpy package breaks the task into various fragments and processes them parallely. Also, numpy packages integrates C, C++ and Fortran codes which results in much lesser execution time. "
      ],
      "metadata": {
        "id": "grKtNLnsrq9h"
      }
    },
    {
      "cell_type": "code",
      "source": [
        "#Q3\n",
        "#without numpy\n",
        "import random\n",
        "import time\n",
        "t1=time.time()\n",
        "a=[181,393,548,476,389,168,622,665,821,296,999,787]\n",
        "n=len(a)\n",
        "a.sort()\n",
        "if n%2==0:\n",
        "  m1=a[n//2]\n",
        "  m2=a[n//2 - 1]\n",
        "  m=(m1+m2)/2\n",
        "else:\n",
        "  m=a[n//2]\n",
        "print(m)\n",
        "t2=time.time()\n",
        "print(t2-t1)\n",
        "\n",
        "#with numpy\n",
        "import numpy as np\n",
        "import time\n",
        "t1=time.time()\n",
        "a=np.array([181,393,548,476,389,168,622,665,821,296,999,787])\n",
        "b=np.median(a)\n",
        "print(b)\n",
        "t2=time.time()\n",
        "print(t2-t1)"
      ],
      "metadata": {
        "id": "0DG8_98WjXUt"
      },
      "execution_count": null,
      "outputs": []
    },
    {
      "cell_type": "markdown",
      "source": [
        "**Q3** Here the time may vary as we are checking for a single input with fixed size. However, Numpy is faster. Time complexity without using numpy is nlogn.\n",
        "Running the code for multiple times (around 10000), visible difference can be seen in execution times. "
      ],
      "metadata": {
        "id": "oBEfQUlFuO3w"
      }
    },
    {
      "cell_type": "markdown",
      "source": [
        "**Q4.**\n",
        "gradient wrt to x= 2*x*y+y^3*cos(x)\n",
        "         wrt to y= x^2+3y^2*sin(x)"
      ],
      "metadata": {
        "id": "beyaL6w2jX5e"
      }
    },
    {
      "cell_type": "code",
      "source": [
        "#Q5\n",
        "import jax\n",
        "import jax.numpy as jnp\n",
        "from jax import random\n",
        "from jax import grad,value_and_grad\n",
        "from jax.test_util import check_grads\n",
        "\n",
        "def exp(x,y):\n",
        "    return x**2*y + y**3*jnp.sin(x)\n",
        "\n",
        "grad_g = grad(exp, argnums=(0,1))\n",
        "\n",
        "input1 = 1.0\n",
        "input2 = 1.0    \n",
        "print(\"JAX Gradient Function: \", grad_g(input1, input2))"
      ],
      "metadata": {
        "id": "pbdVqOr9kGAZ"
      },
      "execution_count": null,
      "outputs": []
    },
    {
      "cell_type": "code",
      "source": [
        "#Q6\n",
        "import sympy as sp\n",
        "from sympy import *\n",
        "x,y=symbols('x y')\n",
        "exp=x**2*y + y**3*sp.sin(x)\n",
        "print(diff(exp,x))\n",
        "print(diff(exp,y))\n"
      ],
      "metadata": {
        "id": "w5jFObkkkGRb"
      },
      "execution_count": null,
      "outputs": []
    },
    {
      "cell_type": "code",
      "source": [
        "#Q7\n",
        "n_dic={\n",
        "     \"2022\" : {\"Branch 1\" : {\"Roll No\" : \"1\",\"Name\" : \"A\",\"Marks\" : {\"Maths\" : \"100\",\"English\" : \"70\"}},\"Branch 2\" : {\"Roll No\" : \"2\",\"Name\" : \"B\",\"Marks\" : {\"Maths\" : \"80\",\"English\" : \"40\"}}},\n",
        "     \"2023\" : {\"Branch 1\" : {\"Roll No\" : \"3\",\"Name\" : \"C\",\"Marks\" : {\"Maths\" : \"66\",\"English\" : \"70\"}},\"Branch 2\" : {\"Roll No\" : \"1\",\"Name\" : \"D\",\"Marks\" : {\"Maths\" : \"89\",\"English\" : \"27\"}}},\n",
        "     \"2024\" : {\"Branch 1\" : {\"Roll No\" : \"2\",\"Name\" : \"E\",\"Marks\" : {\"Maths\" : \"100\",\"English\" : \"80\"}},\"Branch 2\" : {\"Roll No\" : \"1\",\"Name\" : \"F\",\"Marks\" : {\"Maths\" : \"98\",\"English\" : \"99\"}}},\n",
        "     \"2025\" : {\"Branch 1\" : {\"Roll No\" : \"1\",\"Name\" : \"G\",\"Marks\" : {\"Maths\" : \"84\",\"English\" : \"73\"}},\"Branch 2\" : {\"Roll No\" : \"1\",\"Name\" : \"H\",\"Marks\" : {\"Maths\" : \"64\",\"English\" : \"75\"}}}\n",
        " }  \n",
        "print(n_dic)  \n"
      ],
      "metadata": {
        "id": "-kftvWeTkGhS"
      },
      "execution_count": null,
      "outputs": []
    },
    {
      "cell_type": "code",
      "source": [
        "#Q8\n",
        "class Year:\n",
        "  class Branch:\n",
        "    def __init__(self,RollNo,Name):\n",
        "      self.RollNo=RollNo\n",
        "      self.Name=Name\n",
        "\n",
        "    class Marks:\n",
        "       def __init__(self,Maths,English):\n",
        "         self.Maths=Maths\n",
        "         self.English=English   \n",
        "      \n",
        "y=Year()\n",
        "b=y.Branch(1,'A')\n",
        "m=b.Marks(90,80)  \n",
        "print(b.RollNo,b.Name)\n",
        "print(m.Maths,m.English)   "
      ],
      "metadata": {
        "id": "dD5SZ65ZkGzK"
      },
      "execution_count": null,
      "outputs": []
    },
    {
      "cell_type": "code",
      "source": [
        "#Q9\n",
        "import numpy as np\n",
        "import matplotlib.pyplot as plt\n",
        "x=np.arange(0.5,100.5,0.5)\n",
        "y=x\n",
        "#y=x**2\n",
        "#y=(x**3)/100\n",
        "#y=np.sin(x)\n",
        "#y=np.sin(x)/x\n",
        "#y=np.log(x)\n",
        "#y=np.e**x\n",
        "plt.plot(x,y)\n",
        "plt.show()"
      ],
      "metadata": {
        "id": "ZyPnKApwkHCQ"
      },
      "execution_count": null,
      "outputs": []
    },
    {
      "cell_type": "code",
      "source": [
        "#Q10\n",
        "import numpy as np\n",
        "import pandas as pd\n",
        "a=np.random.uniform(1,2,size=(20,5))\n",
        "df=pd.DataFrame(a)\n",
        "df.columns=[\"a\",\"b\",\"c\",\"d\",\"e\"]\n",
        "print(df)\n",
        "#print(df.std())\n",
        "print(\"Column with highest standard deviation : \"+str(df.std().idxmax()))\n",
        "av_row=df.mean(axis=1)\n",
        "#print(av_row)\n",
        "print(\"Row with lowest mean : \"+str(av_row.idxmin()))\n"
      ],
      "metadata": {
        "id": "0S0Km2p0kLJ5"
      },
      "execution_count": null,
      "outputs": []
    },
    {
      "cell_type": "code",
      "source": [
        "#Q11\n",
        "import numpy as np\n",
        "import pandas as pd\n",
        "a=np.random.uniform(1,2,size=(20,5))\n",
        "df=pd.DataFrame(a)\n",
        "df.columns=[\"a\",\"b\",\"c\",\"d\",\"e\"]\n",
        "df[\"f\"]=df.sum(axis=1)\n",
        "cond=[(df[\"f\"]<8),(df[\"f\"]>=8)]\n",
        "val=['LT8','GT8']\n",
        "df[\"g\"]=np.select(cond,val)\n",
        "print(df)\n",
        "count=len(df[df[\"g\"]=='LT8'])\n",
        "print(\"No. of rows in which g is LT8 : \"+str(count))\n",
        "b=df.groupby(\"g\")[\"f\"].std()\n",
        "print(b)\n"
      ],
      "metadata": {
        "id": "mPy6n7GRkLeg"
      },
      "execution_count": null,
      "outputs": []
    },
    {
      "cell_type": "code",
      "source": [
        "#Q12\n",
        "import numpy as np\n",
        "a=np.array([10,6,9,1])\n",
        "b=8\n",
        "print(a*b)"
      ],
      "metadata": {
        "id": "R_U-pddqkL9L"
      },
      "execution_count": null,
      "outputs": []
    },
    {
      "cell_type": "code",
      "source": [
        "#Q13\n",
        "import numpy as np\n",
        "def argmin1(x):\n",
        "  return min(range(len(x)), key=lambda i: x[i])\n",
        "\n",
        "a=np.array([1,2,7,6,0])\n",
        "print(argmin1(a))\n",
        "print(np.argmin(a))  "
      ],
      "metadata": {
        "id": "zL2JYh56kMQO"
      },
      "execution_count": null,
      "outputs": []
    }
  ]
}